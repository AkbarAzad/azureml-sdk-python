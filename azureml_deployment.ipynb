{
 "cells": [
  {
   "cell_type": "markdown",
   "metadata": {},
   "source": [
    "# Deploy trained and registered model"
   ]
  },
  {
   "cell_type": "markdown",
   "metadata": {},
   "source": [
    "### Connect to workspace"
   ]
  },
  {
   "cell_type": "code",
   "execution_count": 110,
   "metadata": {},
   "outputs": [
    {
     "name": "stdout",
     "output_type": "stream",
     "text": [
      "zpdsnfws02 Workspace loaded\n"
     ]
    }
   ],
   "source": [
    "# Connect to workspace\n",
    "from azureml.core import Workspace\n",
    "\n",
    "ws = Workspace.from_config()\n",
    "print(ws.name, \"Workspace loaded\")"
   ]
  },
  {
   "cell_type": "markdown",
   "metadata": {},
   "source": [
    "### Select model to deploy in workspace"
   ]
  },
  {
   "cell_type": "code",
   "execution_count": 111,
   "metadata": {},
   "outputs": [
    {
     "name": "stdout",
     "output_type": "stream",
     "text": [
      "marketing_request_20210312_model version: 5\n",
      "\t Training context : Inline Training\n",
      "\t MSE : 134839444.443378\n",
      "\t Accuracy : 0.0\n",
      "\n",
      "\n",
      "marketing_request_20210312_model_v1 version: 1\n",
      "\t Training context : Inline Training\n",
      "\t MSE : 134839444.443378\n",
      "\t Accuracy : 0.0\n",
      "\n",
      "\n",
      "marketing_request_20210312_model version: 4\n",
      "\t Training context : Inline Training\n",
      "\t MSE : 134839444.443378\n",
      "\t Accuracy : 0.0\n",
      "\n",
      "\n",
      "marketing_request_20210312_model version: 3\n",
      "\t Training context : Inline Training\n",
      "\t MSE : 134839444.443378\n",
      "\t Accuracy : 0.0\n",
      "\n",
      "\n",
      "marketing_request_20210312_model version: 2\n",
      "\t Training context : Inline Training\n",
      "\t MSE : 134839444.443378\n",
      "\t Accuracy : 0.0\n",
      "\n",
      "\n",
      "marketing_request_20210312_model version: 1\n",
      "\t Training context : Inline Training\n",
      "\t MSE : 134839444.443378\n",
      "\t Accuracy : 0.0\n",
      "\n",
      "\n",
      "ApplicationCategoryRunHistory.mml version: 10\n",
      "\n",
      "\n",
      "ApplicationCategoryRunHistory.mml version: 9\n",
      "\n",
      "\n",
      "ApplicationCategoryRunHistory.mml version: 8\n",
      "\n",
      "\n",
      "ApplicationCategoryRunHistory.mml version: 7\n",
      "\n",
      "\n",
      "ApplicationCategoryRunHistory.mml version: 6\n",
      "\n",
      "\n",
      "ApplicationCategoryRunHistory.mml version: 5\n",
      "\n",
      "\n",
      "ApplicationCategoryRunHistory.mml version: 4\n",
      "\n",
      "\n",
      "ApplicationCategoryRunHistory.mml version: 3\n",
      "\n",
      "\n",
      "ApplicationCategoryRunHistory.mml version: 2\n",
      "\n",
      "\n",
      "ApplicationCategoryRunHistory.mml version: 1\n",
      "\n",
      "\n"
     ]
    }
   ],
   "source": [
    "# Get models registered in workspace\n",
    "from azureml.core import Model\n",
    "\n",
    "for model in Model.list(ws):\n",
    "    print(model.name, \"version:\", model.version)\n",
    "    for tag_name in model.tags:\n",
    "        tag = model.tags[tag_name]\n",
    "        print(\"\\t\", tag_name, \":\", tag)\n",
    "    for prop_name in model.properties:\n",
    "        prop = model.properties[prop_name]\n",
    "        print(\"\\t\", prop_name, \":\", prop)\n",
    "    print(\"\\n\")"
   ]
  },
  {
   "cell_type": "code",
   "execution_count": 112,
   "metadata": {},
   "outputs": [
    {
     "name": "stdout",
     "output_type": "stream",
     "text": [
      "marketing_request_20210312_model version 5\n"
     ]
    }
   ],
   "source": [
    "# Select model to deploy\n",
    "model = ws.models[\"marketing_request_20210312_model\"]\n",
    "print(model.name, \"version\", model.version)"
   ]
  },
  {
   "cell_type": "code",
   "execution_count": 113,
   "metadata": {},
   "outputs": [
    {
     "data": {
      "text/plain": [
       "'marketing_request_20210312_model:5'"
      ]
     },
     "execution_count": 113,
     "metadata": {},
     "output_type": "execute_result"
    }
   ],
   "source": [
    "model.id"
   ]
  },
  {
   "cell_type": "markdown",
   "metadata": {},
   "source": [
    "### Create folder for webservice"
   ]
  },
  {
   "cell_type": "markdown",
   "metadata": {},
   "source": [
    "#### Create folder to store files for webservice"
   ]
  },
  {
   "cell_type": "code",
   "execution_count": 114,
   "metadata": {},
   "outputs": [
    {
     "name": "stdout",
     "output_type": "stream",
     "text": [
      "./marketing_request_20210312_service folder created\n"
     ]
    }
   ],
   "source": [
    "# Create folder to store code and config files to create webservice\n",
    "import os\n",
    "\n",
    "folder_name = \"marketing_request_20210312_service\"\n",
    "experiment_folder = \"./\" + folder_name\n",
    "os.makedirs(experiment_folder, exist_ok = True)\n",
    "print(experiment_folder, \"folder created\")"
   ]
  },
  {
   "cell_type": "markdown",
   "metadata": {},
   "source": [
    "#### Write scoring script"
   ]
  },
  {
   "cell_type": "code",
   "execution_count": 115,
   "metadata": {},
   "outputs": [
    {
     "name": "stdout",
     "output_type": "stream",
     "text": [
      "Overwriting ./marketing_request_20210312_service/score_marketing_request_20210312.py\n"
     ]
    }
   ],
   "source": [
    "%%writefile $experiment_folder/score_marketing_request_20210312.py\n",
    "import json\n",
    "import joblib\n",
    "import numpy as np\n",
    "from azureml.core.model import Model\n",
    "\n",
    "# Called when the service is loaded\n",
    "def init():\n",
    "    global myModel\n",
    "    # Get the path to the deployed model file and load it\n",
    "    model_path = Model.get_model_path(model_name = 'marketing_request_20210312_model')\n",
    "    myModel = joblib.load(model_path)\n",
    "\n",
    "# Called when a request is received\n",
    "def run(raw_data):\n",
    "    # Get the input data as a numpy array\n",
    "    data = np.array(json.loads(raw_data)[\"data\"])\n",
    "    # Get a prediction from the model\n",
    "    predictions = myModel.predict(data)\n",
    "    prediction_list = []\n",
    "    for prediction in predictions:\n",
    "        prediction_list.append(prediction)\n",
    "    # Return the predictions as JSON\n",
    "    return json.dumps(prediction_list)\n"
   ]
  },
  {
   "cell_type": "markdown",
   "metadata": {},
   "source": [
    "#### Create YAML file for dependencies"
   ]
  },
  {
   "cell_type": "code",
   "execution_count": 125,
   "metadata": {},
   "outputs": [
    {
     "name": "stdout",
     "output_type": "stream",
     "text": [
      "Saved dependency info in ./marketing_request_20210312_service/marketing_request_20210312_env.yml\n",
      "# Conda environment specification. The dependencies defined in this file will\n",
      "\n",
      "# be automatically provisioned for runs with userManagedDependencies=False.\n",
      "\n",
      "\n",
      "# Details about the Conda environment file format:\n",
      "\n",
      "# https://conda.io/docs/user-guide/tasks/manage-environments.html#create-env-file-manually\n",
      "\n",
      "\n",
      "name: project_environment\n",
      "dependencies:\n",
      "  # The python interpreter version.\n",
      "\n",
      "  # Currently Azure ML only supports 3.5.2 and later.\n",
      "\n",
      "- python=3.6.2\n",
      "\n",
      "- pip:\n",
      "    # Required packages for AzureML execution, history, and data preparation.\n",
      "\n",
      "  - azureml-defaults\n",
      "\n",
      "  - scikit-learn==0.21.3\n",
      "  - pandas\n",
      "  - pyspark\n",
      "channels:\n",
      "- anaconda\n",
      "- conda-forge\n",
      "\n"
     ]
    }
   ],
   "source": [
    "from azureml.core.conda_dependencies import CondaDependencies \n",
    "\n",
    "# Add the dependencies for our model (AzureML defaults is already included)\n",
    "myenv = CondaDependencies()\n",
    "myenv.add_pip_package(\"scikit-learn==0.21.3\")\n",
    "myenv.add_pip_package(\"pandas\")\n",
    "myenv.add_pip_package(\"pyspark\")\n",
    "\n",
    "# Save the environment config as a .yml file\n",
    "env_file = experiment_folder + \"/marketing_request_20210312_env.yml\"\n",
    "with open(env_file,\"w\") as f:\n",
    "    f.write(myenv.serialize_to_string())\n",
    "print(\"Saved dependency info in\", env_file)\n",
    "\n",
    "# Print the .yml file\n",
    "with open(env_file,\"r\") as f:\n",
    "    print(f.read())"
   ]
  },
  {
   "cell_type": "markdown",
   "metadata": {},
   "source": [
    "### Deploy model"
   ]
  },
  {
   "cell_type": "code",
   "execution_count": 126,
   "metadata": {},
   "outputs": [
    {
     "name": "stdout",
     "output_type": "stream",
     "text": [
      "Tips: You can try get_logs(): https://aka.ms/debugimage#dockerlog or local deployment: https://aka.ms/debugimage#debug-locally to debug if deployment takes longer than 10 minutes.\n",
      "Running\n",
      "2021-09-30 17:32:40+08:00 Creating Container Registry if not exists.\n",
      "2021-09-30 17:32:41+08:00 Registering the environment.\n",
      "2021-09-30 17:32:43+08:00 Building image..\n",
      "2021-09-30 17:37:56+08:00 Generating deployment configuration.\n",
      "2021-09-30 17:37:57+08:00 Submitting deployment to compute..\n",
      "2021-09-30 17:38:04+08:00 Checking the status of deployment marketing-request-service10..\n",
      "2021-09-30 17:40:17+08:00 Checking the status of inference endpoint marketing-request-service10.\n",
      "Succeeded\n",
      "ACI service creation operation finished, operation \"Succeeded\"\n",
      "Healthy\n"
     ]
    }
   ],
   "source": [
    "# Deploy\n",
    "from azureml.core.webservice import AciWebservice\n",
    "from azureml.core.model import InferenceConfig\n",
    "\n",
    "# Configure the scoring environment\n",
    "inference_config = InferenceConfig(runtime= \"python\",\n",
    "                                   source_directory = experiment_folder,\n",
    "                                   entry_script=\"score_marketing_request_20210312.py\",\n",
    "                                   conda_file=\"marketing_request_20210312_env.yml\")\n",
    "\n",
    "deployment_config = AciWebservice.deploy_configuration(cpu_cores = 1, memory_gb = 1)\n",
    "\n",
    "service_name = \"marketing-request-service10\"\n",
    "\n",
    "service = Model.deploy(ws, service_name, [model], inference_config, deployment_config)\n",
    "\n",
    "service.wait_for_deployment(True)\n",
    "print(service.state)"
   ]
  },
  {
   "cell_type": "code",
   "execution_count": 127,
   "metadata": {},
   "outputs": [
    {
     "name": "stdout",
     "output_type": "stream",
     "text": [
      "Healthy\n",
      "2021-09-30T09:40:06,832743800+00:00 - rsyslog/run \n",
      "2021-09-30T09:40:06,831726300+00:00 - gunicorn/run \n",
      "Dynamic Python package installation is disabled.\n",
      "Starting HTTP server\n",
      "2021-09-30T09:40:06,838219100+00:00 - iot-server/run \n",
      "2021-09-30T09:40:06,958889700+00:00 - nginx/run \n",
      "EdgeHubConnectionString and IOTEDGE_IOTHUBHOSTNAME are not set. Exiting...\n",
      "2021-09-30T09:40:07,410933100+00:00 - iot-server/finish 1 0\n",
      "2021-09-30T09:40:07,417435200+00:00 - Exit code 1 is normal. Not restarting iot-server.\n",
      "Starting gunicorn 20.1.0\n",
      "Listening at: http://127.0.0.1:31311 (69)\n",
      "Using worker: sync\n",
      "worker timeout is set to 300\n",
      "Booting worker with pid: 97\n",
      "SPARK_HOME not set. Skipping PySpark Initialization.\n",
      "Initializing logger\n",
      "2021-09-30 09:40:10,254 | root | INFO | Starting up app insights client\n",
      "logging socket was found. logging is available.\n",
      "logging socket was found. logging is available.\n",
      "2021-09-30 09:40:10,255 | root | INFO | Starting up request id generator\n",
      "2021-09-30 09:40:10,255 | root | INFO | Starting up app insight hooks\n",
      "2021-09-30 09:40:10,255 | root | INFO | Invoking user's init function\n",
      "no request id,/azureml-envs/azureml_9220b7486ae5ee687a3539040cc20c59/lib/python3.6/site-packages/sklearn/base.py:306: UserWarning: Trying to unpickle estimator LinearRegression from version 0.20.3 when using version 0.21.3. This might lead to breaking code or invalid results. Use at your own risk.\n",
      "  UserWarning)\n",
      "\n",
      "2021-09-30 09:40:11,056 | root | INFO | Users's init has completed successfully\n",
      "/azureml-envs/azureml_9220b7486ae5ee687a3539040cc20c59/lib/python3.6/site-packages/sklearn/base.py:306: UserWarning: Trying to unpickle estimator LinearRegression from version 0.20.3 when using version 0.21.3. This might lead to breaking code or invalid results. Use at your own risk.\n",
      "  UserWarning)\n",
      "2021-09-30 09:40:11,063 | root | INFO | Skipping middleware: dbg_model_info as it's not enabled.\n",
      "2021-09-30 09:40:11,064 | root | INFO | Skipping middleware: dbg_resource_usage as it's not enabled.\n",
      "2021-09-30 09:40:11,067 | root | INFO | Scoring timeout is found from os.environ: 60000 ms\n",
      "2021-09-30 09:40:17,185 | root | INFO | Swagger file not present\n",
      "2021-09-30 09:40:17,185 | root | INFO | 404\n",
      "127.0.0.1 - - [30/Sep/2021:09:40:17 +0000] \"GET /swagger.json HTTP/1.0\" 404 19 \"-\" \"Go-http-client/1.1\"\n",
      "2021-09-30 09:40:21,054 | root | INFO | Swagger file not present\n",
      "2021-09-30 09:40:21,054 | root | INFO | 404\n",
      "127.0.0.1 - - [30/Sep/2021:09:40:21 +0000] \"GET /swagger.json HTTP/1.0\" 404 19 \"-\" \"Go-http-client/1.1\"\n",
      "\n"
     ]
    }
   ],
   "source": [
    "print(service.state)\n",
    "print(service.get_logs())\n",
    "\n",
    "# If you need to make a change and redeploy, you may need to delete unhealthy service using the following code:\n",
    "#service.delete()"
   ]
  },
  {
   "cell_type": "code",
   "execution_count": 128,
   "metadata": {},
   "outputs": [
    {
     "name": "stdout",
     "output_type": "stream",
     "text": [
      "marketing-request-service10\n",
      "marketing-request-service9\n",
      "marketing-request-service8\n",
      "marketing-request-service7\n",
      "marketing-request-service6\n",
      "marketing-request-service5\n",
      "marketing-request-service4\n",
      "marketing-request-service3\n",
      "marketing-request-service2\n",
      "marketing-request-service\n",
      "applicationcategorywebservice\n"
     ]
    }
   ],
   "source": [
    "for webservice_name in ws.webservices:\n",
    "    print(webservice_name)"
   ]
  },
  {
   "cell_type": "markdown",
   "metadata": {},
   "source": [
    "#### Get endpoint (URI)"
   ]
  },
  {
   "cell_type": "code",
   "execution_count": 129,
   "metadata": {},
   "outputs": [
    {
     "name": "stdout",
     "output_type": "stream",
     "text": [
      "http://d27dd023-0572-413d-b8a2-1b6e06b75de4.southeastasia.azurecontainer.io/score\n"
     ]
    }
   ],
   "source": [
    "endpoint = service.scoring_uri\n",
    "print(endpoint)"
   ]
  },
  {
   "cell_type": "markdown",
   "metadata": {},
   "source": [
    "#### Get predictions through REST API i.e. endpoint"
   ]
  },
  {
   "cell_type": "code",
   "execution_count": 131,
   "metadata": {},
   "outputs": [
    {
     "name": "stdout",
     "output_type": "stream",
     "text": [
      "<Response [200]>\n",
      "[122.8123770091251, 122.86054712915386]\n"
     ]
    }
   ],
   "source": [
    "import requests\n",
    "import json\n",
    "\n",
    "x_new = [[2,180],\n",
    "         [22,148]]\n",
    "\n",
    "# Convert the array to a serializable list in a JSON document\n",
    "input_json = json.dumps({\"data\": x_new})\n",
    "\n",
    "# Set the content type\n",
    "headers = { 'Content-Type':'application/json' }\n",
    "\n",
    "predictions = requests.post(endpoint, input_json, headers = headers)\n",
    "predicted_scores = json.loads(predictions.json())\n",
    "print(predictions)\n",
    "print(predicted_scores)"
   ]
  }
 ],
 "metadata": {
  "kernelspec": {
   "display_name": "Python 3",
   "language": "python",
   "name": "python3"
  },
  "language_info": {
   "codemirror_mode": {
    "name": "ipython",
    "version": 3
   },
   "file_extension": ".py",
   "mimetype": "text/x-python",
   "name": "python",
   "nbconvert_exporter": "python",
   "pygments_lexer": "ipython3",
   "version": "3.7.6"
  }
 },
 "nbformat": 4,
 "nbformat_minor": 4
}
